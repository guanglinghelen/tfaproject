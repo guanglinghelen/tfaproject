{
 "cells": [
  {
   "cell_type": "code",
   "execution_count": 20,
   "id": "3272b5ee",
   "metadata": {},
   "outputs": [],
   "source": [
    "import pandas as pd"
   ]
  },
  {
   "cell_type": "code",
   "execution_count": 21,
   "id": "5aac4f06",
   "metadata": {},
   "outputs": [
    {
     "name": "stderr",
     "output_type": "stream",
     "text": [
      "C:\\Users\\admin\\anaconda3\\lib\\site-packages\\IPython\\core\\interactiveshell.py:3444: DtypeWarning: Columns (20,31,32) have mixed types.Specify dtype option on import or set low_memory=False.\n",
      "  exec(code_obj, self.user_global_ns, self.user_ns)\n"
     ]
    }
   ],
   "source": [
    "df=pd.read_csv('311_Service_Requests_2020.csv')"
   ]
  },
  {
   "cell_type": "code",
   "execution_count": 22,
   "id": "cf6cc0b0",
   "metadata": {},
   "outputs": [],
   "source": [
    "df_type=df[df[\"Incident Zip\"]==10027]"
   ]
  },
  {
   "cell_type": "code",
   "execution_count": 23,
   "id": "f8667a29",
   "metadata": {},
   "outputs": [],
   "source": [
    "complaint_type=df_type.groupby('Complaint Type').size().sort_values(ascending=False).head(10)"
   ]
  },
  {
   "cell_type": "code",
   "execution_count": 24,
   "id": "0ab0ba99",
   "metadata": {},
   "outputs": [
    {
     "data": {
      "text/plain": [
       "Complaint Type\n",
       "Noise - Residential            3610\n",
       "Noise - Street/Sidewalk        3087\n",
       "HEAT/HOT WATER                 2138\n",
       "Illegal Parking                1118\n",
       "Non-Emergency Police Matter     862\n",
       "Illegal Fireworks               779\n",
       "Noise - Vehicle                 647\n",
       "UNSANITARY CONDITION            628\n",
       "PLUMBING                        465\n",
       "Noise                           443\n",
       "dtype: int64"
      ]
     },
     "execution_count": 24,
     "metadata": {},
     "output_type": "execute_result"
    }
   ],
   "source": [
    "complaint_type"
   ]
  },
  {
   "cell_type": "code",
   "execution_count": null,
   "id": "babbe520",
   "metadata": {},
   "outputs": [],
   "source": []
  }
 ],
 "metadata": {
  "kernelspec": {
   "display_name": "Python 3 (ipykernel)",
   "language": "python",
   "name": "python3"
  },
  "language_info": {
   "codemirror_mode": {
    "name": "ipython",
    "version": 3
   },
   "file_extension": ".py",
   "mimetype": "text/x-python",
   "name": "python",
   "nbconvert_exporter": "python",
   "pygments_lexer": "ipython3",
   "version": "3.9.7"
  }
 },
 "nbformat": 4,
 "nbformat_minor": 5
}
